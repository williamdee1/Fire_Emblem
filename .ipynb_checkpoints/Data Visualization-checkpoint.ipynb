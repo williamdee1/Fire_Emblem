{
 "cells": [
  {
   "cell_type": "code",
   "execution_count": 1,
   "id": "7cbd4f16",
   "metadata": {},
   "outputs": [],
   "source": [
    "import pandas as pd\n",
    "from jupyter_dash import JupyterDash\n",
    "from modules.dash_viz import *\n",
    "# disable chained assignments (bc who understands .loc properly?):\n",
    "pd.options.mode.chained_assignment = None "
   ]
  },
  {
   "cell_type": "markdown",
   "id": "bad7330e",
   "metadata": {},
   "source": [
    "# Import Data and Visualize:"
   ]
  },
  {
   "cell_type": "code",
   "execution_count": 2,
   "id": "069915ca",
   "metadata": {},
   "outputs": [],
   "source": [
    "df = pd.read_csv(\"data/char_levelled_stats.csv\")      # Load .csv data file, produced in FE Engage Maddening Notebook\n",
    "df['int_lev'] = df['int_lev'].astype(int)             # Ensure internal level (\"int_lev\") is an integer value"
   ]
  },
  {
   "cell_type": "markdown",
   "id": "3fe722c0",
   "metadata": {},
   "source": [
    "## Grouped Bar Plot:"
   ]
  },
  {
   "cell_type": "code",
   "execution_count": 3,
   "id": "9ef4420a",
   "metadata": {
    "scrolled": false
   },
   "outputs": [
    {
     "data": {
      "text/html": [
       "\n",
       "        <iframe\n",
       "            width=\"100%\"\n",
       "            height=\"650\"\n",
       "            src=\"http://127.0.0.1:8050/\"\n",
       "            frameborder=\"0\"\n",
       "            allowfullscreen\n",
       "            \n",
       "        ></iframe>\n",
       "        "
      ],
      "text/plain": [
       "<IPython.lib.display.IFrame at 0x218f9c3cd00>"
      ]
     },
     "metadata": {},
     "output_type": "display_data"
    }
   ],
   "source": [
    "app = JupyterDash(__name__)                           # Define JupyterDash app\n",
    "buttons = bar_buttons(df)                             # Create the drop down and slider buttons\n",
    "app = bar_layout(app, buttons)                        # Create custom layout for visualization\n",
    "app = bar_callbacks(app, df)                          # Define app callbacks for updating\n",
    "app.run_server(mode='inline')                         # Run the app"
   ]
  },
  {
   "cell_type": "markdown",
   "id": "bca766a9",
   "metadata": {},
   "source": [
    "# Scatterplot:"
   ]
  },
  {
   "cell_type": "code",
   "execution_count": 4,
   "id": "92f7ed3c",
   "metadata": {
    "scrolled": false
   },
   "outputs": [
    {
     "data": {
      "text/html": [
       "\n",
       "        <iframe\n",
       "            width=\"100%\"\n",
       "            height=\"650\"\n",
       "            src=\"http://127.0.0.1:8050/\"\n",
       "            frameborder=\"0\"\n",
       "            allowfullscreen\n",
       "            \n",
       "        ></iframe>\n",
       "        "
      ],
      "text/plain": [
       "<IPython.lib.display.IFrame at 0x218fa7fef10>"
      ]
     },
     "metadata": {},
     "output_type": "display_data"
    }
   ],
   "source": [
    "data_ex_mauv = df[df['Name'] != 'Mauvier']                      # Excluding Mavier from data\n",
    "sc_buttons = scatter_buttons(data_ex_mauv)                      # Create the drop down and slider buttons\n",
    "sc_app = scatter_layout(app, sc_buttons)                        # Create custom layout for visualization\n",
    "scatter_app = scatter_callbacks(app, data_ex_mauv)              # Define app callbacks for updating\n",
    "app.run_server(mode='inline')                                   # Run the app"
   ]
  },
  {
   "cell_type": "code",
   "execution_count": null,
   "id": "00a85e4e",
   "metadata": {},
   "outputs": [],
   "source": []
  }
 ],
 "metadata": {
  "kernelspec": {
   "display_name": "Python 3 (ipykernel)",
   "language": "python",
   "name": "python3"
  },
  "language_info": {
   "codemirror_mode": {
    "name": "ipython",
    "version": 3
   },
   "file_extension": ".py",
   "mimetype": "text/x-python",
   "name": "python",
   "nbconvert_exporter": "python",
   "pygments_lexer": "ipython3",
   "version": "3.9.13"
  }
 },
 "nbformat": 4,
 "nbformat_minor": 5
}
