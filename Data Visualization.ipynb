{
 "cells": [
  {
   "cell_type": "code",
   "execution_count": 1,
   "id": "7cbd4f16",
   "metadata": {},
   "outputs": [],
   "source": [
    "import pandas as pd\n",
    "from jupyter_dash import JupyterDash\n",
    "from modules.dash_viz import *\n",
    "# disable chained assignments (bc who understands .loc properly?):\n",
    "pd.options.mode.chained_assignment = None "
   ]
  },
  {
   "cell_type": "markdown",
   "id": "bad7330e",
   "metadata": {},
   "source": [
    "# Import Data and Visualize:"
   ]
  },
  {
   "cell_type": "code",
   "execution_count": 3,
   "id": "069915ca",
   "metadata": {},
   "outputs": [],
   "source": [
    "df = pd.read_csv(\"data/char_levelled_stats.csv\")      # Load .csv data file, produced in FE Engage Maddening Notebook\n",
    "df['int_lev'] = df['int_lev'].astype(int)             # Ensure internal level (\"int_lev\") is an integer value"
   ]
  },
  {
   "cell_type": "markdown",
   "id": "1cf7302c",
   "metadata": {},
   "source": [
    "## Grouped Bar Plot:"
   ]
  },
  {
   "cell_type": "code",
   "execution_count": 5,
   "id": "9ef4420a",
   "metadata": {
    "scrolled": false
   },
   "outputs": [
    {
     "data": {
      "text/html": [
       "\n",
       "        <iframe\n",
       "            width=\"100%\"\n",
       "            height=\"650\"\n",
       "            src=\"http://127.0.0.1:8050/\"\n",
       "            frameborder=\"0\"\n",
       "            allowfullscreen\n",
       "            \n",
       "        ></iframe>\n",
       "        "
      ],
      "text/plain": [
       "<IPython.lib.display.IFrame at 0x20bf4ee54f0>"
      ]
     },
     "metadata": {},
     "output_type": "display_data"
    }
   ],
   "source": [
    "app = JupyterDash(__name__)                           # Define JupyterDash app\n",
    "buttons = bar_buttons(df)                             # Create the drop down and slider buttons\n",
    "app = bar_layout(app, buttons)                        # Create custom layout for visualization\n",
    "app = bar_callbacks(app, df)                          # Define app callbacks for updating\n",
    "app.run_server(mode='inline')                         # Run the app"
   ]
  },
  {
   "cell_type": "markdown",
   "id": "debfdda1",
   "metadata": {},
   "source": [
    "**N.B** Select characters **then** classes."
   ]
  },
  {
   "cell_type": "markdown",
   "id": "152c2d7a",
   "metadata": {},
   "source": [
    "# Scatterplot:"
   ]
  },
  {
   "cell_type": "code",
   "execution_count": 6,
   "id": "c5721e85",
   "metadata": {
    "scrolled": false
   },
   "outputs": [
    {
     "data": {
      "text/html": [
       "\n",
       "        <iframe\n",
       "            width=\"100%\"\n",
       "            height=\"650\"\n",
       "            src=\"http://127.0.0.1:8050/\"\n",
       "            frameborder=\"0\"\n",
       "            allowfullscreen\n",
       "            \n",
       "        ></iframe>\n",
       "        "
      ],
      "text/plain": [
       "<IPython.lib.display.IFrame at 0x20bf4f45fd0>"
      ]
     },
     "metadata": {},
     "output_type": "display_data"
    }
   ],
   "source": [
    "data_ex_mauv = df[df['Name'] != 'Mauvier']                      # Excluding Mavier from data as he skews results so much\n",
    "sc_buttons = scatter_buttons(data_ex_mauv)                      # Create the drop down and slider buttons\n",
    "sc_app = scatter_layout(app, sc_buttons)                        # Create custom layout for visualization\n",
    "app = scatter_callbacks(app, data_ex_mauv)              # Define app callbacks for updating\n",
    "app.run_server(mode='inline')                                   # Run the app"
   ]
  },
  {
   "cell_type": "code",
   "execution_count": null,
   "id": "e09b7b48",
   "metadata": {},
   "outputs": [],
   "source": []
  }
 ],
 "metadata": {
  "kernelspec": {
   "display_name": "Python 3 (ipykernel)",
   "language": "python",
   "name": "python3"
  },
  "language_info": {
   "codemirror_mode": {
    "name": "ipython",
    "version": 3
   },
   "file_extension": ".py",
   "mimetype": "text/x-python",
   "name": "python",
   "nbconvert_exporter": "python",
   "pygments_lexer": "ipython3",
   "version": "3.9.13"
  }
 },
 "nbformat": 4,
 "nbformat_minor": 5
}
